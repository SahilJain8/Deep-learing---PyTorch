{
 "cells": [
  {
   "cell_type": "code",
   "execution_count": 1,
   "metadata": {
    "collapsed": true,
    "ExecuteTime": {
     "end_time": "2023-07-04T06:11:43.319092Z",
     "start_time": "2023-07-04T06:11:41.578320300Z"
    }
   },
   "outputs": [],
   "source": [
    "import torch\n",
    "from torch import  nn # nn contains all of pytorch building blocks\n",
    "import  matplotlib.pyplot as plt"
   ]
  },
  {
   "cell_type": "code",
   "execution_count": 2,
   "outputs": [
    {
     "data": {
      "text/plain": "'2.0.1'"
     },
     "execution_count": 2,
     "metadata": {},
     "output_type": "execute_result"
    }
   ],
   "source": [
    "torch.__version__"
   ],
   "metadata": {
    "collapsed": false,
    "ExecuteTime": {
     "end_time": "2023-07-04T06:11:46.118565300Z",
     "start_time": "2023-07-04T06:11:46.114559100Z"
    }
   }
  },
  {
   "cell_type": "code",
   "execution_count": 7,
   "outputs": [],
   "source": [
    "#Regression\n",
    "\n",
    "# Y = a + bx  where a = weights , b =bias"
   ],
   "metadata": {
    "collapsed": false,
    "ExecuteTime": {
     "end_time": "2023-07-04T06:16:05.498827800Z",
     "start_time": "2023-07-04T06:16:05.493828200Z"
    }
   }
  },
  {
   "cell_type": "code",
   "execution_count": 3,
   "outputs": [],
   "source": [
    "# create known parameters\n",
    "weight = 0.7\n",
    "bias = 0.3\n",
    "\n",
    "#Create\n",
    "\n",
    "start = 0\n",
    "end =1\n",
    "step = 0.02\n",
    "X= torch.arange(start,end,step).unsqueeze(dim=1)"
   ],
   "metadata": {
    "collapsed": false,
    "ExecuteTime": {
     "end_time": "2023-07-04T06:14:20.913012700Z",
     "start_time": "2023-07-04T06:14:20.897038200Z"
    }
   }
  },
  {
   "cell_type": "code",
   "execution_count": 4,
   "outputs": [],
   "source": [
    "Y = weight + X +bias"
   ],
   "metadata": {
    "collapsed": false,
    "ExecuteTime": {
     "end_time": "2023-07-04T06:14:45.113967600Z",
     "start_time": "2023-07-04T06:14:45.099904200Z"
    }
   }
  },
  {
   "cell_type": "code",
   "execution_count": 5,
   "outputs": [
    {
     "data": {
      "text/plain": "tensor([[0.0000],\n        [0.0200],\n        [0.0400],\n        [0.0600],\n        [0.0800],\n        [0.1000],\n        [0.1200],\n        [0.1400],\n        [0.1600],\n        [0.1800],\n        [0.2000],\n        [0.2200],\n        [0.2400],\n        [0.2600],\n        [0.2800],\n        [0.3000],\n        [0.3200],\n        [0.3400],\n        [0.3600],\n        [0.3800],\n        [0.4000],\n        [0.4200],\n        [0.4400],\n        [0.4600],\n        [0.4800],\n        [0.5000],\n        [0.5200],\n        [0.5400],\n        [0.5600],\n        [0.5800],\n        [0.6000],\n        [0.6200],\n        [0.6400],\n        [0.6600],\n        [0.6800],\n        [0.7000],\n        [0.7200],\n        [0.7400],\n        [0.7600],\n        [0.7800],\n        [0.8000],\n        [0.8200],\n        [0.8400],\n        [0.8600],\n        [0.8800],\n        [0.9000],\n        [0.9200],\n        [0.9400],\n        [0.9600],\n        [0.9800]])"
     },
     "execution_count": 5,
     "metadata": {},
     "output_type": "execute_result"
    }
   ],
   "source": [
    "X"
   ],
   "metadata": {
    "collapsed": false,
    "ExecuteTime": {
     "end_time": "2023-07-04T06:14:46.975516400Z",
     "start_time": "2023-07-04T06:14:46.964516600Z"
    }
   }
  },
  {
   "cell_type": "code",
   "execution_count": 6,
   "outputs": [
    {
     "data": {
      "text/plain": "tensor([[1.0000],\n        [1.0200],\n        [1.0400],\n        [1.0600],\n        [1.0800],\n        [1.1000],\n        [1.1200],\n        [1.1400],\n        [1.1600],\n        [1.1800],\n        [1.2000],\n        [1.2200],\n        [1.2400],\n        [1.2600],\n        [1.2800],\n        [1.3000],\n        [1.3200],\n        [1.3400],\n        [1.3600],\n        [1.3800],\n        [1.4000],\n        [1.4200],\n        [1.4400],\n        [1.4600],\n        [1.4800],\n        [1.5000],\n        [1.5200],\n        [1.5400],\n        [1.5600],\n        [1.5800],\n        [1.6000],\n        [1.6200],\n        [1.6400],\n        [1.6600],\n        [1.6800],\n        [1.7000],\n        [1.7200],\n        [1.7400],\n        [1.7600],\n        [1.7800],\n        [1.8000],\n        [1.8200],\n        [1.8400],\n        [1.8600],\n        [1.8800],\n        [1.9000],\n        [1.9200],\n        [1.9400],\n        [1.9600],\n        [1.9800]])"
     },
     "execution_count": 6,
     "metadata": {},
     "output_type": "execute_result"
    }
   ],
   "source": [
    "Y"
   ],
   "metadata": {
    "collapsed": false,
    "ExecuteTime": {
     "end_time": "2023-07-04T06:14:53.585644200Z",
     "start_time": "2023-07-04T06:14:53.581138Z"
    }
   }
  },
  {
   "cell_type": "code",
   "execution_count": null,
   "outputs": [],
   "source": [
    "## splitting data into training and testing"
   ],
   "metadata": {
    "collapsed": false
   }
  }
 ],
 "metadata": {
  "kernelspec": {
   "display_name": "Python 3",
   "language": "python",
   "name": "python3"
  },
  "language_info": {
   "codemirror_mode": {
    "name": "ipython",
    "version": 2
   },
   "file_extension": ".py",
   "mimetype": "text/x-python",
   "name": "python",
   "nbconvert_exporter": "python",
   "pygments_lexer": "ipython2",
   "version": "2.7.6"
  }
 },
 "nbformat": 4,
 "nbformat_minor": 0
}
