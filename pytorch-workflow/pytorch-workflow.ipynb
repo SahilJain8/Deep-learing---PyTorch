{
 "cells": [
  {
   "cell_type": "code",
   "execution_count": 60,
   "metadata": {
    "collapsed": true,
    "ExecuteTime": {
     "end_time": "2023-07-06T06:12:05.452107100Z",
     "start_time": "2023-07-06T06:12:05.428964700Z"
    }
   },
   "outputs": [],
   "source": [
    "import torch\n",
    "from torch import  nn # nn contains all of pytorch building blocks\n",
    "import  matplotlib.pyplot as plt"
   ]
  },
  {
   "cell_type": "code",
   "execution_count": 61,
   "outputs": [
    {
     "data": {
      "text/plain": "'2.0.1'"
     },
     "execution_count": 61,
     "metadata": {},
     "output_type": "execute_result"
    }
   ],
   "source": [
    "torch.__version__"
   ],
   "metadata": {
    "collapsed": false,
    "ExecuteTime": {
     "end_time": "2023-07-06T06:12:05.536687700Z",
     "start_time": "2023-07-06T06:12:05.439991100Z"
    }
   }
  },
  {
   "cell_type": "code",
   "execution_count": 62,
   "outputs": [],
   "source": [
    "#Regression\n",
    "\n",
    "# Y = a + bx  where a = weights , b =bias"
   ],
   "metadata": {
    "collapsed": false,
    "ExecuteTime": {
     "end_time": "2023-07-06T06:12:05.537687500Z",
     "start_time": "2023-07-06T06:12:05.464621800Z"
    }
   }
  },
  {
   "cell_type": "code",
   "execution_count": 63,
   "outputs": [],
   "source": [
    "# create known parameters\n",
    "weight = 0.7\n",
    "bias = 0.3\n",
    "\n",
    "#Create\n",
    "\n",
    "start = 0\n",
    "end =1\n",
    "step = 0.02\n",
    "X= torch.arange(start,end,step).unsqueeze(dim=1)"
   ],
   "metadata": {
    "collapsed": false,
    "ExecuteTime": {
     "end_time": "2023-07-06T06:12:05.537687500Z",
     "start_time": "2023-07-06T06:12:05.473319900Z"
    }
   }
  },
  {
   "cell_type": "code",
   "execution_count": 64,
   "outputs": [],
   "source": [
    "Y = weight + X +bias"
   ],
   "metadata": {
    "collapsed": false,
    "ExecuteTime": {
     "end_time": "2023-07-06T06:12:05.538687400Z",
     "start_time": "2023-07-06T06:12:05.486703100Z"
    }
   }
  },
  {
   "cell_type": "code",
   "execution_count": 65,
   "outputs": [
    {
     "data": {
      "text/plain": "tensor([[0.0000],\n        [0.0200],\n        [0.0400],\n        [0.0600],\n        [0.0800],\n        [0.1000],\n        [0.1200],\n        [0.1400],\n        [0.1600],\n        [0.1800],\n        [0.2000],\n        [0.2200],\n        [0.2400],\n        [0.2600],\n        [0.2800],\n        [0.3000],\n        [0.3200],\n        [0.3400],\n        [0.3600],\n        [0.3800],\n        [0.4000],\n        [0.4200],\n        [0.4400],\n        [0.4600],\n        [0.4800],\n        [0.5000],\n        [0.5200],\n        [0.5400],\n        [0.5600],\n        [0.5800],\n        [0.6000],\n        [0.6200],\n        [0.6400],\n        [0.6600],\n        [0.6800],\n        [0.7000],\n        [0.7200],\n        [0.7400],\n        [0.7600],\n        [0.7800],\n        [0.8000],\n        [0.8200],\n        [0.8400],\n        [0.8600],\n        [0.8800],\n        [0.9000],\n        [0.9200],\n        [0.9400],\n        [0.9600],\n        [0.9800]])"
     },
     "execution_count": 65,
     "metadata": {},
     "output_type": "execute_result"
    }
   ],
   "source": [
    "X"
   ],
   "metadata": {
    "collapsed": false,
    "ExecuteTime": {
     "end_time": "2023-07-06T06:12:05.538687400Z",
     "start_time": "2023-07-06T06:12:05.501702900Z"
    }
   }
  },
  {
   "cell_type": "code",
   "execution_count": 66,
   "outputs": [
    {
     "data": {
      "text/plain": "tensor([[1.0000],\n        [1.0200],\n        [1.0400],\n        [1.0600],\n        [1.0800],\n        [1.1000],\n        [1.1200],\n        [1.1400],\n        [1.1600],\n        [1.1800],\n        [1.2000],\n        [1.2200],\n        [1.2400],\n        [1.2600],\n        [1.2800],\n        [1.3000],\n        [1.3200],\n        [1.3400],\n        [1.3600],\n        [1.3800],\n        [1.4000],\n        [1.4200],\n        [1.4400],\n        [1.4600],\n        [1.4800],\n        [1.5000],\n        [1.5200],\n        [1.5400],\n        [1.5600],\n        [1.5800],\n        [1.6000],\n        [1.6200],\n        [1.6400],\n        [1.6600],\n        [1.6800],\n        [1.7000],\n        [1.7200],\n        [1.7400],\n        [1.7600],\n        [1.7800],\n        [1.8000],\n        [1.8200],\n        [1.8400],\n        [1.8600],\n        [1.8800],\n        [1.9000],\n        [1.9200],\n        [1.9400],\n        [1.9600],\n        [1.9800]])"
     },
     "execution_count": 66,
     "metadata": {},
     "output_type": "execute_result"
    }
   ],
   "source": [
    "Y"
   ],
   "metadata": {
    "collapsed": false,
    "ExecuteTime": {
     "end_time": "2023-07-06T06:12:05.538687400Z",
     "start_time": "2023-07-06T06:12:05.517854500Z"
    }
   }
  },
  {
   "cell_type": "code",
   "execution_count": 67,
   "outputs": [],
   "source": [
    "## splitting data into training and testing\n",
    "\n",
    "train_split = int(0.8 * len(X))\n",
    "X_train,Y_train = X[:train_split],Y[:train_split]\n",
    "X_test,Y_test = X[train_split:],Y[train_split:]"
   ],
   "metadata": {
    "collapsed": false,
    "ExecuteTime": {
     "end_time": "2023-07-06T06:12:05.550687500Z",
     "start_time": "2023-07-06T06:12:05.535687600Z"
    }
   }
  },
  {
   "cell_type": "code",
   "execution_count": 68,
   "outputs": [],
   "source": [
    "#ploting Data\n",
    "\n",
    "def plot_predictions(train_data = X_train,\n",
    "                     train_labels = Y_train,\n",
    "                     test_data = X_test,\n",
    "                     test_labels = Y_test,\n",
    "                     predictions = None):\n",
    "\n",
    "    plt.figure(figsize=(10,7))\n",
    "\n",
    "    plt.scatter(train_data,train_labels,c=\"b\",s=4,label = \"Training Data\")\n",
    "\n",
    "    plt.scatter(test_data,test_labels,c=\"r\",s=4,label = \"Testing Data\")\n",
    "\n",
    "    if predictions is not None:\n",
    "        plt.scatter(test_data,predictions,c=\"g\",s=4,label = \"Predictions\")\n",
    "\n",
    "    plt.legend(prop ={\"size\":14})\n",
    "\n",
    "\n"
   ],
   "metadata": {
    "collapsed": false,
    "ExecuteTime": {
     "end_time": "2023-07-06T06:12:05.606370800Z",
     "start_time": "2023-07-06T06:12:05.552687400Z"
    }
   }
  },
  {
   "cell_type": "code",
   "execution_count": 69,
   "outputs": [
    {
     "data": {
      "text/plain": "<Figure size 1000x700 with 1 Axes>",
      "image/png": "[encoded data removed]"
     },
     "metadata": {},
     "output_type": "display_data"
    }
   ],
   "source": [
    "plot_predictions()"
   ],
   "metadata": {
    "collapsed": false,
    "ExecuteTime": {
     "end_time": "2023-07-06T06:12:05.764799800Z",
     "start_time": "2023-07-06T06:12:05.567657900Z"
    }
   }
  },
  {
   "cell_type": "code",
   "execution_count": 70,
   "outputs": [],
   "source": [
    "#Simple Linear regression Model\n",
    "\n",
    "class LinearRegressionModel(nn.Module):\n",
    "    def __init__(self):\n",
    "        super().__init__()\n",
    "        self.weights = nn.Parameter(torch.randn(1, # <- start with random weights (this will get adjusted as the model learns)\n",
    "                                                dtype=torch.float), # <- PyTorch loves float32 by default\n",
    "                                   requires_grad=True) # <- can we update this value with gradient descent?)\n",
    "\n",
    "        self.bias = nn.Parameter(torch.randn(1, # <- start with random bias (this will get adjusted as the model learns)\n",
    "                                            dtype=torch.float), # <- PyTorch loves float32 by default\n",
    "                                requires_grad=True)\n",
    "\n",
    "        # Forward Method\n",
    "\n",
    "\n",
    "    def forward(self, x: torch.Tensor) -> torch.Tensor: # <- \"x\" is the input data (e.g. training/testing features)\n",
    "        return self.weights * x + self.bias #this is the Linear regression formula\n"
   ],
   "metadata": {
    "collapsed": false,
    "ExecuteTime": {
     "end_time": "2023-07-06T06:12:05.777778300Z",
     "start_time": "2023-07-06T06:12:05.763799100Z"
    }
   }
  },
  {
   "cell_type": "code",
   "execution_count": 71,
   "outputs": [],
   "source": [
    "torch.manual_seed(42)\n",
    "\n",
    "model_0 = LinearRegressionModel()"
   ],
   "metadata": {
    "collapsed": false,
    "ExecuteTime": {
     "end_time": "2023-07-06T06:12:05.863026100Z",
     "start_time": "2023-07-06T06:12:05.780767200Z"
    }
   }
  },
  {
   "cell_type": "code",
   "execution_count": 72,
   "outputs": [
    {
     "data": {
      "text/plain": "[Parameter containing:\n tensor([0.3367], requires_grad=True),\n Parameter containing:\n tensor([0.1288], requires_grad=True)]"
     },
     "execution_count": 72,
     "metadata": {},
     "output_type": "execute_result"
    }
   ],
   "source": [
    "list(model_0.parameters()) #list the parameters"
   ],
   "metadata": {
    "collapsed": false,
    "ExecuteTime": {
     "end_time": "2023-07-06T06:12:05.863026100Z",
     "start_time": "2023-07-06T06:12:05.794772Z"
    }
   }
  },
  {
   "cell_type": "code",
   "execution_count": 73,
   "outputs": [
    {
     "data": {
      "text/plain": "OrderedDict([('weights', tensor([0.3367])), ('bias', tensor([0.1288]))])"
     },
     "execution_count": 73,
     "metadata": {},
     "output_type": "execute_result"
    }
   ],
   "source": [
    "#list named parameter\n",
    "\n",
    "model_0.state_dict()"
   ],
   "metadata": {
    "collapsed": false,
    "ExecuteTime": {
     "end_time": "2023-07-06T06:12:05.864028600Z",
     "start_time": "2023-07-06T06:12:05.809353300Z"
    }
   }
  },
  {
   "cell_type": "code",
   "execution_count": 74,
   "outputs": [],
   "source": [
    "#testig the model without training the model\n",
    "\n",
    "with torch.inference_mode():\n",
    "    y_preds = model_0(X_test)\n",
    "\n",
    "with torch.no_grad():\n",
    "    y_preds = model_0(X_test)"
   ],
   "metadata": {
    "collapsed": false,
    "ExecuteTime": {
     "end_time": "2023-07-06T06:12:05.864028600Z",
     "start_time": "2023-07-06T06:12:05.826208500Z"
    }
   }
  },
  {
   "cell_type": "code",
   "execution_count": 75,
   "outputs": [
    {
     "data": {
      "text/plain": "tensor([[0.3982],\n        [0.4049],\n        [0.4116],\n        [0.4184],\n        [0.4251],\n        [0.4318],\n        [0.4386],\n        [0.4453],\n        [0.4520],\n        [0.4588]])"
     },
     "execution_count": 75,
     "metadata": {},
     "output_type": "execute_result"
    }
   ],
   "source": [
    "y_preds"
   ],
   "metadata": {
    "collapsed": false,
    "ExecuteTime": {
     "end_time": "2023-07-06T06:12:05.864028600Z",
     "start_time": "2023-07-06T06:12:05.841423200Z"
    }
   }
  },
  {
   "cell_type": "code",
   "execution_count": 76,
   "outputs": [
    {
     "data": {
      "text/plain": "<Figure size 1000x700 with 1 Axes>",
      "image/png": "[encoded data removed]"
     },
     "metadata": {},
     "output_type": "display_data"
    }
   ],
   "source": [
    "plot_predictions(predictions=y_preds)"
   ],
   "metadata": {
    "collapsed": false,
    "ExecuteTime": {
     "end_time": "2023-07-06T06:12:06.051696700Z",
     "start_time": "2023-07-06T06:12:05.856812200Z"
    }
   }
  },
  {
   "cell_type": "code",
   "execution_count": 77,
   "outputs": [
    {
     "data": {
      "text/plain": "tensor([[0.3982],\n        [0.4049],\n        [0.4116],\n        [0.4184],\n        [0.4251],\n        [0.4318],\n        [0.4386],\n        [0.4453],\n        [0.4520],\n        [0.4588]], grad_fn=<AddBackward0>)"
     },
     "execution_count": 77,
     "metadata": {},
     "output_type": "execute_result"
    }
   ],
   "source": [
    "y_pred = model_0(X_test)   #without inference_mode\n",
    "y_pred"
   ],
   "metadata": {
    "collapsed": false,
    "ExecuteTime": {
     "end_time": "2023-07-06T06:12:06.140298300Z",
     "start_time": "2023-07-06T06:12:06.051820800Z"
    }
   }
  },
  {
   "cell_type": "code",
   "execution_count": 78,
   "outputs": [],
   "source": [
    "#Training the model\n",
    "\n",
    "#loss function may be called as cost func\n",
    "\n",
    "#loss func : A func to measure how wrong your models prediction are to the ideal outputs, is the lesser the better\n",
    "#Optimizer : takes into account the loss of model and adjust its weights and bias"
   ],
   "metadata": {
    "collapsed": false,
    "ExecuteTime": {
     "end_time": "2023-07-06T06:12:06.140298300Z",
     "start_time": "2023-07-06T06:12:06.068200600Z"
    }
   }
  },
  {
   "cell_type": "code",
   "execution_count": 79,
   "outputs": [],
   "source": [
    "#setup a loss function\n",
    "\n",
    "loss_fn = nn.L1Loss()\n",
    "\n",
    "#setup a optimizer  ( stochastic gradient descent )\n",
    "\n",
    "opt_fn = torch.optim.SGD(params=model_0.parameters(),lr=0.01)"
   ],
   "metadata": {
    "collapsed": false,
    "ExecuteTime": {
     "end_time": "2023-07-06T06:12:06.141423900Z",
     "start_time": "2023-07-06T06:12:06.084434800Z"
    }
   }
  },
  {
   "cell_type": "code",
   "execution_count": 80,
   "outputs": [],
   "source": [
    "torch.manual_seed(42)\n",
    "epochs = 100\n",
    "\n",
    "for epoch in range(epochs):\n",
    "    model_0.train() #Train model in PyTorch set all parameters that require gradient to require gradient\n",
    "\n",
    "    y_pred = model_0(X_train)\n",
    "    loss = loss_fn(y_pred,Y_train)\n",
    "\n",
    "    opt_fn.zero_grad()\n",
    "    #Perform Backpropagation on the loss with respect to the parameters of the model\n",
    "    loss.backward()\n",
    "    opt_fn.step()\n",
    "\n",
    "    model_0.eval() # sets the Gradient to False sets it evaluation mode"
   ],
   "metadata": {
    "collapsed": false,
    "ExecuteTime": {
     "end_time": "2023-07-06T06:12:06.149233Z",
     "start_time": "2023-07-06T06:12:06.101758Z"
    }
   }
  },
  {
   "cell_type": "code",
   "execution_count": 81,
   "outputs": [
    {
     "data": {
      "text/plain": "OrderedDict([('weights', tensor([0.7221])), ('bias', tensor([1.0783]))])"
     },
     "execution_count": 81,
     "metadata": {},
     "output_type": "execute_result"
    }
   ],
   "source": [
    "model_0.state_dict()"
   ],
   "metadata": {
    "collapsed": false,
    "ExecuteTime": {
     "end_time": "2023-07-06T06:12:06.160863500Z",
     "start_time": "2023-07-06T06:12:06.145680100Z"
    }
   }
  },
  {
   "cell_type": "code",
   "execution_count": 82,
   "outputs": [
    {
     "name": "stdout",
     "output_type": "stream",
     "text": [
      "tensor(0.0614, grad_fn=<MeanBackward0>)\n"
     ]
    }
   ],
   "source": [
    "print(loss)"
   ],
   "metadata": {
    "collapsed": false,
    "ExecuteTime": {
     "end_time": "2023-07-06T06:12:06.202681500Z",
     "start_time": "2023-07-06T06:12:06.159685300Z"
    }
   }
  },
  {
   "cell_type": "code",
   "execution_count": 83,
   "outputs": [],
   "source": [
    "with torch.inference_mode(): # turns off gradient tracking or torch.no_grad\n",
    "    test_pred = model_0(X_test)\n",
    "\n",
    "    # calculate the loss\n",
    "    test_loss = loss_fn(test_pred,Y_test)"
   ],
   "metadata": {
    "collapsed": false,
    "ExecuteTime": {
     "end_time": "2023-07-06T06:12:06.212702Z",
     "start_time": "2023-07-06T06:12:06.175606300Z"
    }
   }
  },
  {
   "cell_type": "code",
   "execution_count": 84,
   "outputs": [
    {
     "name": "stdout",
     "output_type": "stream",
     "text": [
      "The loss is 0.16902245581150055 \n"
     ]
    }
   ],
   "source": [
    "print(f\"The loss is {test_loss} \")"
   ],
   "metadata": {
    "collapsed": false,
    "ExecuteTime": {
     "end_time": "2023-07-06T06:12:06.213359800Z",
     "start_time": "2023-07-06T06:12:06.191089200Z"
    }
   }
  },
  {
   "cell_type": "markdown",
   "source": [],
   "metadata": {
    "collapsed": false
   }
  },
  {
   "cell_type": "code",
   "execution_count": 85,
   "outputs": [
    {
     "data": {
      "text/plain": "<Figure size 1000x700 with 1 Axes>",
      "image/png": "[encoded data removed]"
     },
     "metadata": {},
     "output_type": "display_data"
    }
   ],
   "source": [
    "plot_predictions(predictions=test_pred)"
   ],
   "metadata": {
    "collapsed": false,
    "ExecuteTime": {
     "end_time": "2023-07-06T06:12:06.391022700Z",
     "start_time": "2023-07-06T06:12:06.206890900Z"
    }
   }
  },
  {
   "cell_type": "code",
   "execution_count": 104,
   "outputs": [],
   "source": [
    "Model_Name =  \"simple-model.pth\"\n",
    "torch.save(model_0.state_dict(),Model_Name)"
   ],
   "metadata": {
    "collapsed": false,
    "ExecuteTime": {
     "end_time": "2023-07-06T06:31:33.992574Z",
     "start_time": "2023-07-06T06:31:33.975574Z"
    }
   }
  },
  {
   "cell_type": "code",
   "execution_count": null,
   "outputs": [],
   "source": [],
   "metadata": {
    "collapsed": false
   }
  }
 ],
 "metadata": {
  "kernelspec": {
   "display_name": "Python 3",
   "language": "python",
   "name": "python3"
  },
  "language_info": {
   "codemirror_mode": {
    "name": "ipython",
    "version": 2
   },
   "file_extension": ".py",
   "mimetype": "text/x-python",
   "name": "python",
   "nbconvert_exporter": "python",
   "pygments_lexer": "ipython2",
   "version": "2.7.6"
  }
 },
 "nbformat": 4,
 "nbformat_minor": 0
}
