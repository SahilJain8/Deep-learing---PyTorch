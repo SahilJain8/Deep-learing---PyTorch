{
 "cells": [
  {
   "cell_type": "code",
   "execution_count": 2,
   "metadata": {
    "collapsed": true,
    "ExecuteTime": {
     "end_time": "2023-07-04T07:03:46.665765500Z",
     "start_time": "2023-07-04T07:03:44.348890700Z"
    }
   },
   "outputs": [],
   "source": [
    "import torch\n",
    "from torch import  nn # nn contains all of pytorch building blocks\n",
    "import  matplotlib.pyplot as plt"
   ]
  },
  {
   "cell_type": "code",
   "execution_count": 3,
   "outputs": [
    {
     "data": {
      "text/plain": "'2.0.1'"
     },
     "execution_count": 3,
     "metadata": {},
     "output_type": "execute_result"
    }
   ],
   "source": [
    "torch.__version__"
   ],
   "metadata": {
    "collapsed": false,
    "ExecuteTime": {
     "end_time": "2023-07-04T07:03:46.680513900Z",
     "start_time": "2023-07-04T07:03:46.664765200Z"
    }
   }
  },
  {
   "cell_type": "code",
   "execution_count": 4,
   "outputs": [],
   "source": [
    "#Regression\n",
    "\n",
    "# Y = a + bx  where a = weights , b =bias"
   ],
   "metadata": {
    "collapsed": false,
    "ExecuteTime": {
     "end_time": "2023-07-04T07:03:46.725197800Z",
     "start_time": "2023-07-04T07:03:46.679513300Z"
    }
   }
  },
  {
   "cell_type": "code",
   "execution_count": 5,
   "outputs": [],
   "source": [
    "# create known parameters\n",
    "weight = 0.7\n",
    "bias = 0.3\n",
    "\n",
    "#Create\n",
    "\n",
    "start = 0\n",
    "end =1\n",
    "step = 0.02\n",
    "X= torch.arange(start,end,step).unsqueeze(dim=1)"
   ],
   "metadata": {
    "collapsed": false,
    "ExecuteTime": {
     "end_time": "2023-07-04T07:03:46.732619600Z",
     "start_time": "2023-07-04T07:03:46.695239700Z"
    }
   }
  },
  {
   "cell_type": "code",
   "execution_count": 6,
   "outputs": [],
   "source": [
    "Y = weight + X +bias"
   ],
   "metadata": {
    "collapsed": false,
    "ExecuteTime": {
     "end_time": "2023-07-04T07:03:46.733618600Z",
     "start_time": "2023-07-04T07:03:46.711812400Z"
    }
   }
  },
  {
   "cell_type": "code",
   "execution_count": 7,
   "outputs": [
    {
     "data": {
      "text/plain": "tensor([[0.0000],\n        [0.0200],\n        [0.0400],\n        [0.0600],\n        [0.0800],\n        [0.1000],\n        [0.1200],\n        [0.1400],\n        [0.1600],\n        [0.1800],\n        [0.2000],\n        [0.2200],\n        [0.2400],\n        [0.2600],\n        [0.2800],\n        [0.3000],\n        [0.3200],\n        [0.3400],\n        [0.3600],\n        [0.3800],\n        [0.4000],\n        [0.4200],\n        [0.4400],\n        [0.4600],\n        [0.4800],\n        [0.5000],\n        [0.5200],\n        [0.5400],\n        [0.5600],\n        [0.5800],\n        [0.6000],\n        [0.6200],\n        [0.6400],\n        [0.6600],\n        [0.6800],\n        [0.7000],\n        [0.7200],\n        [0.7400],\n        [0.7600],\n        [0.7800],\n        [0.8000],\n        [0.8200],\n        [0.8400],\n        [0.8600],\n        [0.8800],\n        [0.9000],\n        [0.9200],\n        [0.9400],\n        [0.9600],\n        [0.9800]])"
     },
     "execution_count": 7,
     "metadata": {},
     "output_type": "execute_result"
    }
   ],
   "source": [
    "X"
   ],
   "metadata": {
    "collapsed": false,
    "ExecuteTime": {
     "end_time": "2023-07-04T07:03:46.742638700Z",
     "start_time": "2023-07-04T07:03:46.727619300Z"
    }
   }
  },
  {
   "cell_type": "code",
   "execution_count": 8,
   "outputs": [
    {
     "data": {
      "text/plain": "tensor([[1.0000],\n        [1.0200],\n        [1.0400],\n        [1.0600],\n        [1.0800],\n        [1.1000],\n        [1.1200],\n        [1.1400],\n        [1.1600],\n        [1.1800],\n        [1.2000],\n        [1.2200],\n        [1.2400],\n        [1.2600],\n        [1.2800],\n        [1.3000],\n        [1.3200],\n        [1.3400],\n        [1.3600],\n        [1.3800],\n        [1.4000],\n        [1.4200],\n        [1.4400],\n        [1.4600],\n        [1.4800],\n        [1.5000],\n        [1.5200],\n        [1.5400],\n        [1.5600],\n        [1.5800],\n        [1.6000],\n        [1.6200],\n        [1.6400],\n        [1.6600],\n        [1.6800],\n        [1.7000],\n        [1.7200],\n        [1.7400],\n        [1.7600],\n        [1.7800],\n        [1.8000],\n        [1.8200],\n        [1.8400],\n        [1.8600],\n        [1.8800],\n        [1.9000],\n        [1.9200],\n        [1.9400],\n        [1.9600],\n        [1.9800]])"
     },
     "execution_count": 8,
     "metadata": {},
     "output_type": "execute_result"
    }
   ],
   "source": [
    "Y"
   ],
   "metadata": {
    "collapsed": false,
    "ExecuteTime": {
     "end_time": "2023-07-04T07:03:46.788711500Z",
     "start_time": "2023-07-04T07:03:46.742638700Z"
    }
   }
  },
  {
   "cell_type": "code",
   "execution_count": 9,
   "outputs": [],
   "source": [
    "## splitting data into training and testing\n",
    "\n",
    "train_split = int(0.8 * len(X))\n",
    "X_train,Y_train = X[:train_split],Y[:train_split]\n",
    "X_test,Y_test = X[train_split:],Y[train_split:]"
   ],
   "metadata": {
    "collapsed": false,
    "ExecuteTime": {
     "end_time": "2023-07-04T07:03:46.788711500Z",
     "start_time": "2023-07-04T07:03:46.758701600Z"
    }
   }
  },
  {
   "cell_type": "code",
   "execution_count": 41,
   "outputs": [],
   "source": [
    "#ploting Data\n",
    "\n",
    "def plot_predictions(train_data = X_train,\n",
    "                     train_labels = Y_train,\n",
    "                     test_data = X_test,\n",
    "                     test_labels = Y_test,\n",
    "                     predictions = None):\n",
    "\n",
    "    plt.figure(figsize=(10,7))\n",
    "\n",
    "    plt.scatter(train_data,train_labels,c=\"b\",s=4,label = \"Training Data\")\n",
    "\n",
    "    plt.scatter(test_data,test_data,c=\"r\",s=4,label = \"Testing Data\")\n",
    "\n",
    "    if predictions is not None:\n",
    "        plt.scatter(test_data,predictions,c=\"g\",label = \"Predictions\")\n",
    "\n",
    "    plt.legend(prop ={\"size\":14})\n",
    "\n",
    "\n"
   ],
   "metadata": {
    "collapsed": false,
    "ExecuteTime": {
     "end_time": "2023-07-04T07:07:48.765868400Z",
     "start_time": "2023-07-04T07:07:48.746517300Z"
    }
   }
  },
  {
   "cell_type": "code",
   "execution_count": 42,
   "outputs": [
    {
     "data": {
      "text/plain": "<Figure size 1000x700 with 1 Axes>",
      "image/png": "[encoded data removed]"
     },
     "metadata": {},
     "output_type": "display_data"
    }
   ],
   "source": [
    "plot_predictions()"
   ],
   "metadata": {
    "collapsed": false,
    "ExecuteTime": {
     "end_time": "2023-07-04T07:07:49.109582400Z",
     "start_time": "2023-07-04T07:07:48.972348300Z"
    }
   }
  },
  {
   "cell_type": "code",
   "execution_count": 11,
   "outputs": [],
   "source": [
    "#Simple Linear regression Model\n",
    "\n",
    "class LinearRegressionModel(nn.Module):\n",
    "    def __int__(self):\n",
    "        super().__init__()\n",
    "        self.weights = nn.Parameter(torch.randn(1,\n",
    "                                                requires_grad=True,\n",
    "                                                dtype = torch.float))\n",
    "        self.bias = nn.Parameter(torch.randn(1,requires_grad=True,dtype=torch.float))\n",
    "\n",
    "        # Forward Method\n",
    "\n",
    "    def forward(self,x:torch.Tensor) -> torch.Tensor:\n",
    "            return self.weights * x+ self.bias  #this is the Linear regression formula\n"
   ],
   "metadata": {
    "collapsed": false,
    "ExecuteTime": {
     "end_time": "2023-07-04T07:03:46.961787400Z",
     "start_time": "2023-07-04T07:03:46.947743200Z"
    }
   }
  },
  {
   "cell_type": "code",
   "execution_count": null,
   "outputs": [],
   "source": [],
   "metadata": {
    "collapsed": false
   }
  },
  {
   "cell_type": "code",
   "execution_count": 11,
   "outputs": [],
   "source": [],
   "metadata": {
    "collapsed": false,
    "ExecuteTime": {
     "end_time": "2023-07-04T07:03:47.049890600Z",
     "start_time": "2023-07-04T07:03:46.961787400Z"
    }
   }
  }
 ],
 "metadata": {
  "kernelspec": {
   "display_name": "Python 3",
   "language": "python",
   "name": "python3"
  },
  "language_info": {
   "codemirror_mode": {
    "name": "ipython",
    "version": 2
   },
   "file_extension": ".py",
   "mimetype": "text/x-python",
   "name": "python",
   "nbconvert_exporter": "python",
   "pygments_lexer": "ipython2",
   "version": "2.7.6"
  }
 },
 "nbformat": 4,
 "nbformat_minor": 0
}
